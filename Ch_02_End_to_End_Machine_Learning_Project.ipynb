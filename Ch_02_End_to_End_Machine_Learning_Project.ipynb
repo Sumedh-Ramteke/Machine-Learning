{
  "nbformat": 4,
  "nbformat_minor": 0,
  "metadata": {
    "colab": {
      "provenance": [],
      "authorship_tag": "ABX9TyNd0RF6mqIsHqpagwJ9leYX",
      "include_colab_link": true
    },
    "kernelspec": {
      "name": "python3",
      "display_name": "Python 3"
    },
    "language_info": {
      "name": "python"
    }
  },
  "cells": [
    {
      "cell_type": "markdown",
      "metadata": {
        "id": "view-in-github",
        "colab_type": "text"
      },
      "source": [
        "<a href=\"https://colab.research.google.com/github/Sumedh-Ramteke/Machine-Learning/blob/master/Ch_02_End_to_End_Machine_Learning_Project.ipynb\" target=\"_parent\"><img src=\"https://colab.research.google.com/assets/colab-badge.svg\" alt=\"Open In Colab\"/></a>"
      ]
    },
    {
      "cell_type": "markdown",
      "source": [
        "## ***Description***\n",
        "This notebook contains code for Chapter 2 of  Machine Learning under the book **Hands-On Machine Learning with Scikit-Learn, Keras, and TensorFlow SECOND EDITION by *Aurélien Géron***."
      ],
      "metadata": {
        "id": "73ucGiTnqmV5"
      }
    },
    {
      "cell_type": "markdown",
      "source": [
        "---\n",
        "# **CHAPTER 2**\n",
        "---"
      ],
      "metadata": {
        "id": "6unEnpXcsJNG"
      }
    },
    {
      "cell_type": "markdown",
      "source": [
        "Until now I was manually downloading the dataset and then extracting the csv file from the zip file. This process can be automated by the following procedure."
      ],
      "metadata": {
        "id": "UxRs9vrqsy8o"
      }
    }
  ]
}